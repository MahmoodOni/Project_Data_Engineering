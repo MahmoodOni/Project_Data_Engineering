{
 "cells": [
  {
   "cell_type": "markdown",
   "id": "53959903",
   "metadata": {},
   "source": [
    "### Objective\n",
    "\n",
    "- Use WebScraping to get bank information"
   ]
  },
  {
   "cell_type": "code",
   "execution_count": 15,
   "id": "9ac936d0",
   "metadata": {},
   "outputs": [],
   "source": [
    "from bs4 import BeautifulSoup\n",
    "import html5lib\n",
    "import requests\n",
    "import pandas as pd"
   ]
  },
  {
   "cell_type": "code",
   "execution_count": 16,
   "id": "a6ad08b0",
   "metadata": {},
   "outputs": [],
   "source": [
    "url='https://web.archive.org/web/20200318083015/https://en.wikipedia.org/wiki/List_of_largest_banks'"
   ]
  },
  {
   "cell_type": "code",
   "execution_count": 17,
   "id": "07c29fb0",
   "metadata": {},
   "outputs": [],
   "source": [
    "html_data=requests.get(url).text"
   ]
  },
  {
   "cell_type": "code",
   "execution_count": 18,
   "id": "70a12572",
   "metadata": {},
   "outputs": [
    {
     "data": {
      "text/plain": [
       "'List of largest banks -'"
      ]
     },
     "execution_count": 18,
     "metadata": {},
     "output_type": "execute_result"
    }
   ],
   "source": [
    "html_data[760:783]"
   ]
  },
  {
   "cell_type": "code",
   "execution_count": 19,
   "id": "6b22d460",
   "metadata": {},
   "outputs": [],
   "source": [
    "soup=BeautifulSoup(html_data,'html.parser')"
   ]
  },
  {
   "cell_type": "code",
   "execution_count": 24,
   "id": "efdaa8d3",
   "metadata": {},
   "outputs": [],
   "source": [
    "data = pd.DataFrame(columns=[\"Name\", \"Market Cap (US$ Billion)\"])\n",
    "\n",
    "for row in soup.find_all('tbody')[2].find_all('tr'):\n",
    "    col = row.find_all('td')\n",
    "    if len(col) >= 3:\n",
    "        b_name = col[1].find('a').text.strip()\n",
    "        m_cap = col[2].text.strip()\n",
    "        data = data.append({'Name': b_name, 'Market Cap (US$ Billion)': m_cap}, ignore_index=True)"
   ]
  },
  {
   "cell_type": "code",
   "execution_count": null,
   "id": "8004d558",
   "metadata": {},
   "outputs": [],
   "source": [
    "# for i, table in enumerate(soup.find_all('tbody')):\n",
    "#     print(f\"Table {i}:\\n{table}\")\n",
    "#     print()\n",
    "\n",
    "# # Print the number of rows in each table\n",
    "# for i, table in enumerate(soup.find_all('tbody')):\n",
    "#     rows = table.find_all('tr')\n",
    "#     print(f\"Table {i} has {len(rows)} rows\")\n",
    "\n",
    "# # Verify the number of cells in each row\n",
    "# for i, table in enumerate(soup.find_all('tbody')):\n",
    "#     rows = table.find_all('tr')\n",
    "#     for j, row in enumerate(rows):\n",
    "#         cells = row.find_all('td')\n",
    "#         print(f\"Table {i}, Row {j} has {len(cells)} cells\")"
   ]
  },
  {
   "cell_type": "code",
   "execution_count": 25,
   "id": "2895249c",
   "metadata": {},
   "outputs": [
    {
     "data": {
      "text/html": [
       "<div>\n",
       "<style scoped>\n",
       "    .dataframe tbody tr th:only-of-type {\n",
       "        vertical-align: middle;\n",
       "    }\n",
       "\n",
       "    .dataframe tbody tr th {\n",
       "        vertical-align: top;\n",
       "    }\n",
       "\n",
       "    .dataframe thead th {\n",
       "        text-align: right;\n",
       "    }\n",
       "</style>\n",
       "<table border=\"1\" class=\"dataframe\">\n",
       "  <thead>\n",
       "    <tr style=\"text-align: right;\">\n",
       "      <th></th>\n",
       "      <th>Name</th>\n",
       "      <th>Market Cap (US$ Billion)</th>\n",
       "    </tr>\n",
       "  </thead>\n",
       "  <tbody>\n",
       "    <tr>\n",
       "      <th>0</th>\n",
       "      <td></td>\n",
       "      <td>390.934</td>\n",
       "    </tr>\n",
       "    <tr>\n",
       "      <th>1</th>\n",
       "      <td></td>\n",
       "      <td>345.214</td>\n",
       "    </tr>\n",
       "    <tr>\n",
       "      <th>2</th>\n",
       "      <td></td>\n",
       "      <td>325.331</td>\n",
       "    </tr>\n",
       "    <tr>\n",
       "      <th>3</th>\n",
       "      <td></td>\n",
       "      <td>308.013</td>\n",
       "    </tr>\n",
       "    <tr>\n",
       "      <th>4</th>\n",
       "      <td></td>\n",
       "      <td>257.399</td>\n",
       "    </tr>\n",
       "  </tbody>\n",
       "</table>\n",
       "</div>"
      ],
      "text/plain": [
       "  Name Market Cap (US$ Billion)\n",
       "0                       390.934\n",
       "1                       345.214\n",
       "2                       325.331\n",
       "3                       308.013\n",
       "4                       257.399"
      ]
     },
     "execution_count": 25,
     "metadata": {},
     "output_type": "execute_result"
    }
   ],
   "source": [
    "data.head()"
   ]
  },
  {
   "cell_type": "code",
   "execution_count": 27,
   "id": "61c81364",
   "metadata": {},
   "outputs": [],
   "source": [
    "data.to_json('2.bank_market_cap.json')"
   ]
  },
  {
   "cell_type": "code",
   "execution_count": null,
   "id": "96954dd3",
   "metadata": {},
   "outputs": [],
   "source": []
  }
 ],
 "metadata": {
  "kernelspec": {
   "display_name": "Python 3 (ipykernel)",
   "language": "python",
   "name": "python3"
  },
  "language_info": {
   "codemirror_mode": {
    "name": "ipython",
    "version": 3
   },
   "file_extension": ".py",
   "mimetype": "text/x-python",
   "name": "python",
   "nbconvert_exporter": "python",
   "pygments_lexer": "ipython3",
   "version": "3.9.12"
  }
 },
 "nbformat": 4,
 "nbformat_minor": 5
}
